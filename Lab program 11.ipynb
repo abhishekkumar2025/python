{
 "cells": [
  {
   "cell_type": "code",
   "execution_count": 3,
   "id": "d7a094d9",
   "metadata": {},
   "outputs": [],
   "source": [
    "import pandas as pd"
   ]
  },
  {
   "cell_type": "code",
   "execution_count": 51,
   "id": "e9e273b5",
   "metadata": {},
   "outputs": [
    {
     "name": "stdout",
     "output_type": "stream",
     "text": [
      "   apple  orange\n",
      "0      3       1\n",
      "1      2       4\n",
      "2      0       5\n",
      "3      1       9\n",
      "4      5       6\n"
     ]
    }
   ],
   "source": [
    "data={'apple':[3,2,0,1,5],'orange':[1,4,5,9,6]}\n",
    "df=pd.DataFrame(data)\n",
    "print(df)"
   ]
  },
  {
   "cell_type": "code",
   "execution_count": 9,
   "id": "7118a507",
   "metadata": {},
   "outputs": [
    {
     "name": "stdout",
     "output_type": "stream",
     "text": [
      "   apple  orange\n",
      "1      3       1\n",
      "2      2       4\n",
      "3      0       5\n",
      "4      1       9\n",
      "5      5       6\n"
     ]
    }
   ],
   "source": [
    "data={'apple':[3,2,0,1,5],'orange':[1,4,5,9,6]}\n",
    "df=pd.DataFrame(data,index=[1,2,3,4,5])\n",
    "print(df)"
   ]
  },
  {
   "cell_type": "code",
   "execution_count": 11,
   "id": "bcc248e2",
   "metadata": {},
   "outputs": [
    {
     "data": {
      "text/plain": [
       "apple     1\n",
       "orange    9\n",
       "Name: 4, dtype: int64"
      ]
     },
     "execution_count": 11,
     "metadata": {},
     "output_type": "execute_result"
    }
   ],
   "source": [
    "df.loc[4]"
   ]
  },
  {
   "cell_type": "code",
   "execution_count": 12,
   "id": "0a88c59a",
   "metadata": {},
   "outputs": [
    {
     "name": "stdout",
     "output_type": "stream",
     "text": [
      "   apple  orange\n",
      "0      3       1\n",
      "1      2       4\n",
      "2      0       5\n",
      "3      1       9\n",
      "4      5       6\n"
     ]
    }
   ],
   "source": [
    "data={'apple':[3,2,0,1,5],'orange':[1,4,5,9,6]}\n",
    "df=pd.DataFrame.from_dict(data)\n",
    "print(df)"
   ]
  },
  {
   "cell_type": "code",
   "execution_count": 13,
   "id": "c6ca035c",
   "metadata": {},
   "outputs": [
    {
     "name": "stdout",
     "output_type": "stream",
     "text": [
      "        0  1  2  3  4\n",
      "apple   3  2  0  1  5\n",
      "orange  1  4  5  9  6\n"
     ]
    }
   ],
   "source": [
    "data={'apple':[3,2,0,1,5],'orange':[1,4,5,9,6]}\n",
    "df=pd.DataFrame.from_dict(data,orient='index')\n",
    "print(df)"
   ]
  },
  {
   "cell_type": "code",
   "execution_count": 15,
   "id": "31d501fc",
   "metadata": {},
   "outputs": [
    {
     "name": "stdout",
     "output_type": "stream",
     "text": [
      "        a  b  c  d  e\n",
      "apple   3  2  0  1  5\n",
      "orange  1  4  5  9  6\n"
     ]
    }
   ],
   "source": [
    "data={'apple':[3,2,0,1,5],'orange':[1,4,5,9,6]}\n",
    "df=pd.DataFrame.from_dict(data,orient='index',columns=['a','b','c','d','e'])\n",
    "print(df)"
   ]
  },
  {
   "cell_type": "code",
   "execution_count": 16,
   "id": "a8b6b4ca",
   "metadata": {},
   "outputs": [],
   "source": [
    "df=pd.read_csv('pandaexcel.csv')"
   ]
  },
  {
   "cell_type": "code",
   "execution_count": 17,
   "id": "c2b60d3e",
   "metadata": {},
   "outputs": [
    {
     "name": "stdout",
     "output_type": "stream",
     "text": [
      "   apple  orange\n",
      "0      1       6\n",
      "1      2       7\n",
      "2      3       5\n",
      "3      4       2\n",
      "4      5       1\n"
     ]
    }
   ],
   "source": [
    "print(df)"
   ]
  },
  {
   "cell_type": "code",
   "execution_count": 19,
   "id": "a5a3ea00",
   "metadata": {},
   "outputs": [
    {
     "name": "stdout",
     "output_type": "stream",
     "text": [
      "       orange\n",
      "apple        \n",
      "1           6\n",
      "2           7\n",
      "3           5\n",
      "4           2\n",
      "5           1\n"
     ]
    }
   ],
   "source": [
    "df=pd.read_csv('pandaexcel.csv',index_col=0)\n",
    "print(df)"
   ]
  },
  {
   "cell_type": "code",
   "execution_count": 32,
   "id": "1a573179",
   "metadata": {},
   "outputs": [
    {
     "name": "stdout",
     "output_type": "stream",
     "text": [
      "             0\n",
      "name  John Doe\n",
      "age         30\n",
      "city  New York\n"
     ]
    }
   ],
   "source": [
    "import json\n",
    "import pandas as pd\n",
    "df=pd.read_json('data.json',orient='index')\n",
    "print(df)"
   ]
  },
  {
   "cell_type": "code",
   "execution_count": 31,
   "id": "3fedceb3",
   "metadata": {},
   "outputs": [],
   "source": [
    "df.to_csv('pandaexcel.csv')"
   ]
  },
  {
   "cell_type": "code",
   "execution_count": 33,
   "id": "0f63c8d1",
   "metadata": {},
   "outputs": [],
   "source": [
    "df.to_json('pandaexcel1.json')"
   ]
  },
  {
   "cell_type": "code",
   "execution_count": 34,
   "id": "a1bda3bd",
   "metadata": {},
   "outputs": [],
   "source": [
    "movies_df=pd.read_csv('movies.csv')"
   ]
  },
  {
   "cell_type": "code",
   "execution_count": 35,
   "id": "0a5ec392",
   "metadata": {},
   "outputs": [
    {
     "name": "stdout",
     "output_type": "stream",
     "text": [
      "       movieId                               title  \\\n",
      "0            1                    Toy Story (1995)   \n",
      "1            2                      Jumanji (1995)   \n",
      "2            3             Grumpier Old Men (1995)   \n",
      "3            4            Waiting to Exhale (1995)   \n",
      "4            5  Father of the Bride Part II (1995)   \n",
      "...        ...                                 ...   \n",
      "62418   209157                           We (2018)   \n",
      "62419   209159           Window of the Soul (2001)   \n",
      "62420   209163                    Bad Poems (2018)   \n",
      "62421   209169                 A Girl Thing (2001)   \n",
      "62422   209171      Women of Devil's Island (1962)   \n",
      "\n",
      "                                            genres  \n",
      "0      Adventure|Animation|Children|Comedy|Fantasy  \n",
      "1                       Adventure|Children|Fantasy  \n",
      "2                                   Comedy|Romance  \n",
      "3                             Comedy|Drama|Romance  \n",
      "4                                           Comedy  \n",
      "...                                            ...  \n",
      "62418                                        Drama  \n",
      "62419                                  Documentary  \n",
      "62420                                 Comedy|Drama  \n",
      "62421                           (no genres listed)  \n",
      "62422                       Action|Adventure|Drama  \n",
      "\n",
      "[62423 rows x 3 columns]\n"
     ]
    }
   ],
   "source": [
    "print(movies_df)"
   ]
  },
  {
   "cell_type": "code",
   "execution_count": 36,
   "id": "cdbaa27b",
   "metadata": {},
   "outputs": [
    {
     "data": {
      "text/html": [
       "<div>\n",
       "<style scoped>\n",
       "    .dataframe tbody tr th:only-of-type {\n",
       "        vertical-align: middle;\n",
       "    }\n",
       "\n",
       "    .dataframe tbody tr th {\n",
       "        vertical-align: top;\n",
       "    }\n",
       "\n",
       "    .dataframe thead th {\n",
       "        text-align: right;\n",
       "    }\n",
       "</style>\n",
       "<table border=\"1\" class=\"dataframe\">\n",
       "  <thead>\n",
       "    <tr style=\"text-align: right;\">\n",
       "      <th></th>\n",
       "      <th>movieId</th>\n",
       "      <th>title</th>\n",
       "      <th>genres</th>\n",
       "    </tr>\n",
       "  </thead>\n",
       "  <tbody>\n",
       "    <tr>\n",
       "      <th>0</th>\n",
       "      <td>1</td>\n",
       "      <td>Toy Story (1995)</td>\n",
       "      <td>Adventure|Animation|Children|Comedy|Fantasy</td>\n",
       "    </tr>\n",
       "    <tr>\n",
       "      <th>1</th>\n",
       "      <td>2</td>\n",
       "      <td>Jumanji (1995)</td>\n",
       "      <td>Adventure|Children|Fantasy</td>\n",
       "    </tr>\n",
       "    <tr>\n",
       "      <th>2</th>\n",
       "      <td>3</td>\n",
       "      <td>Grumpier Old Men (1995)</td>\n",
       "      <td>Comedy|Romance</td>\n",
       "    </tr>\n",
       "    <tr>\n",
       "      <th>3</th>\n",
       "      <td>4</td>\n",
       "      <td>Waiting to Exhale (1995)</td>\n",
       "      <td>Comedy|Drama|Romance</td>\n",
       "    </tr>\n",
       "    <tr>\n",
       "      <th>4</th>\n",
       "      <td>5</td>\n",
       "      <td>Father of the Bride Part II (1995)</td>\n",
       "      <td>Comedy</td>\n",
       "    </tr>\n",
       "  </tbody>\n",
       "</table>\n",
       "</div>"
      ],
      "text/plain": [
       "   movieId                               title  \\\n",
       "0        1                    Toy Story (1995)   \n",
       "1        2                      Jumanji (1995)   \n",
       "2        3             Grumpier Old Men (1995)   \n",
       "3        4            Waiting to Exhale (1995)   \n",
       "4        5  Father of the Bride Part II (1995)   \n",
       "\n",
       "                                        genres  \n",
       "0  Adventure|Animation|Children|Comedy|Fantasy  \n",
       "1                   Adventure|Children|Fantasy  \n",
       "2                               Comedy|Romance  \n",
       "3                         Comedy|Drama|Romance  \n",
       "4                                       Comedy  "
      ]
     },
     "execution_count": 36,
     "metadata": {},
     "output_type": "execute_result"
    }
   ],
   "source": [
    "movies_df.head()"
   ]
  },
  {
   "cell_type": "code",
   "execution_count": 37,
   "id": "486e4bcf",
   "metadata": {},
   "outputs": [
    {
     "data": {
      "text/html": [
       "<div>\n",
       "<style scoped>\n",
       "    .dataframe tbody tr th:only-of-type {\n",
       "        vertical-align: middle;\n",
       "    }\n",
       "\n",
       "    .dataframe tbody tr th {\n",
       "        vertical-align: top;\n",
       "    }\n",
       "\n",
       "    .dataframe thead th {\n",
       "        text-align: right;\n",
       "    }\n",
       "</style>\n",
       "<table border=\"1\" class=\"dataframe\">\n",
       "  <thead>\n",
       "    <tr style=\"text-align: right;\">\n",
       "      <th></th>\n",
       "      <th>movieId</th>\n",
       "      <th>title</th>\n",
       "      <th>genres</th>\n",
       "    </tr>\n",
       "  </thead>\n",
       "  <tbody>\n",
       "    <tr>\n",
       "      <th>0</th>\n",
       "      <td>1</td>\n",
       "      <td>Toy Story (1995)</td>\n",
       "      <td>Adventure|Animation|Children|Comedy|Fantasy</td>\n",
       "    </tr>\n",
       "    <tr>\n",
       "      <th>1</th>\n",
       "      <td>2</td>\n",
       "      <td>Jumanji (1995)</td>\n",
       "      <td>Adventure|Children|Fantasy</td>\n",
       "    </tr>\n",
       "    <tr>\n",
       "      <th>2</th>\n",
       "      <td>3</td>\n",
       "      <td>Grumpier Old Men (1995)</td>\n",
       "      <td>Comedy|Romance</td>\n",
       "    </tr>\n",
       "    <tr>\n",
       "      <th>3</th>\n",
       "      <td>4</td>\n",
       "      <td>Waiting to Exhale (1995)</td>\n",
       "      <td>Comedy|Drama|Romance</td>\n",
       "    </tr>\n",
       "    <tr>\n",
       "      <th>4</th>\n",
       "      <td>5</td>\n",
       "      <td>Father of the Bride Part II (1995)</td>\n",
       "      <td>Comedy</td>\n",
       "    </tr>\n",
       "    <tr>\n",
       "      <th>5</th>\n",
       "      <td>6</td>\n",
       "      <td>Heat (1995)</td>\n",
       "      <td>Action|Crime|Thriller</td>\n",
       "    </tr>\n",
       "    <tr>\n",
       "      <th>6</th>\n",
       "      <td>7</td>\n",
       "      <td>Sabrina (1995)</td>\n",
       "      <td>Comedy|Romance</td>\n",
       "    </tr>\n",
       "    <tr>\n",
       "      <th>7</th>\n",
       "      <td>8</td>\n",
       "      <td>Tom and Huck (1995)</td>\n",
       "      <td>Adventure|Children</td>\n",
       "    </tr>\n",
       "    <tr>\n",
       "      <th>8</th>\n",
       "      <td>9</td>\n",
       "      <td>Sudden Death (1995)</td>\n",
       "      <td>Action</td>\n",
       "    </tr>\n",
       "    <tr>\n",
       "      <th>9</th>\n",
       "      <td>10</td>\n",
       "      <td>GoldenEye (1995)</td>\n",
       "      <td>Action|Adventure|Thriller</td>\n",
       "    </tr>\n",
       "  </tbody>\n",
       "</table>\n",
       "</div>"
      ],
      "text/plain": [
       "   movieId                               title  \\\n",
       "0        1                    Toy Story (1995)   \n",
       "1        2                      Jumanji (1995)   \n",
       "2        3             Grumpier Old Men (1995)   \n",
       "3        4            Waiting to Exhale (1995)   \n",
       "4        5  Father of the Bride Part II (1995)   \n",
       "5        6                         Heat (1995)   \n",
       "6        7                      Sabrina (1995)   \n",
       "7        8                 Tom and Huck (1995)   \n",
       "8        9                 Sudden Death (1995)   \n",
       "9       10                    GoldenEye (1995)   \n",
       "\n",
       "                                        genres  \n",
       "0  Adventure|Animation|Children|Comedy|Fantasy  \n",
       "1                   Adventure|Children|Fantasy  \n",
       "2                               Comedy|Romance  \n",
       "3                         Comedy|Drama|Romance  \n",
       "4                                       Comedy  \n",
       "5                        Action|Crime|Thriller  \n",
       "6                               Comedy|Romance  \n",
       "7                           Adventure|Children  \n",
       "8                                       Action  \n",
       "9                    Action|Adventure|Thriller  "
      ]
     },
     "execution_count": 37,
     "metadata": {},
     "output_type": "execute_result"
    }
   ],
   "source": [
    "movies_df.head(10)"
   ]
  },
  {
   "cell_type": "code",
   "execution_count": 38,
   "id": "379a47e6",
   "metadata": {},
   "outputs": [
    {
     "data": {
      "text/html": [
       "<div>\n",
       "<style scoped>\n",
       "    .dataframe tbody tr th:only-of-type {\n",
       "        vertical-align: middle;\n",
       "    }\n",
       "\n",
       "    .dataframe tbody tr th {\n",
       "        vertical-align: top;\n",
       "    }\n",
       "\n",
       "    .dataframe thead th {\n",
       "        text-align: right;\n",
       "    }\n",
       "</style>\n",
       "<table border=\"1\" class=\"dataframe\">\n",
       "  <thead>\n",
       "    <tr style=\"text-align: right;\">\n",
       "      <th></th>\n",
       "      <th>movieId</th>\n",
       "      <th>title</th>\n",
       "      <th>genres</th>\n",
       "    </tr>\n",
       "  </thead>\n",
       "  <tbody>\n",
       "    <tr>\n",
       "      <th>62418</th>\n",
       "      <td>209157</td>\n",
       "      <td>We (2018)</td>\n",
       "      <td>Drama</td>\n",
       "    </tr>\n",
       "    <tr>\n",
       "      <th>62419</th>\n",
       "      <td>209159</td>\n",
       "      <td>Window of the Soul (2001)</td>\n",
       "      <td>Documentary</td>\n",
       "    </tr>\n",
       "    <tr>\n",
       "      <th>62420</th>\n",
       "      <td>209163</td>\n",
       "      <td>Bad Poems (2018)</td>\n",
       "      <td>Comedy|Drama</td>\n",
       "    </tr>\n",
       "    <tr>\n",
       "      <th>62421</th>\n",
       "      <td>209169</td>\n",
       "      <td>A Girl Thing (2001)</td>\n",
       "      <td>(no genres listed)</td>\n",
       "    </tr>\n",
       "    <tr>\n",
       "      <th>62422</th>\n",
       "      <td>209171</td>\n",
       "      <td>Women of Devil's Island (1962)</td>\n",
       "      <td>Action|Adventure|Drama</td>\n",
       "    </tr>\n",
       "  </tbody>\n",
       "</table>\n",
       "</div>"
      ],
      "text/plain": [
       "       movieId                           title                  genres\n",
       "62418   209157                       We (2018)                   Drama\n",
       "62419   209159       Window of the Soul (2001)             Documentary\n",
       "62420   209163                Bad Poems (2018)            Comedy|Drama\n",
       "62421   209169             A Girl Thing (2001)      (no genres listed)\n",
       "62422   209171  Women of Devil's Island (1962)  Action|Adventure|Drama"
      ]
     },
     "execution_count": 38,
     "metadata": {},
     "output_type": "execute_result"
    }
   ],
   "source": [
    "movies_df.tail()"
   ]
  },
  {
   "cell_type": "code",
   "execution_count": 39,
   "id": "d445ca06",
   "metadata": {},
   "outputs": [
    {
     "data": {
      "text/html": [
       "<div>\n",
       "<style scoped>\n",
       "    .dataframe tbody tr th:only-of-type {\n",
       "        vertical-align: middle;\n",
       "    }\n",
       "\n",
       "    .dataframe tbody tr th {\n",
       "        vertical-align: top;\n",
       "    }\n",
       "\n",
       "    .dataframe thead th {\n",
       "        text-align: right;\n",
       "    }\n",
       "</style>\n",
       "<table border=\"1\" class=\"dataframe\">\n",
       "  <thead>\n",
       "    <tr style=\"text-align: right;\">\n",
       "      <th></th>\n",
       "      <th>movieId</th>\n",
       "      <th>title</th>\n",
       "      <th>genres</th>\n",
       "    </tr>\n",
       "  </thead>\n",
       "  <tbody>\n",
       "    <tr>\n",
       "      <th>62421</th>\n",
       "      <td>209169</td>\n",
       "      <td>A Girl Thing (2001)</td>\n",
       "      <td>(no genres listed)</td>\n",
       "    </tr>\n",
       "    <tr>\n",
       "      <th>62422</th>\n",
       "      <td>209171</td>\n",
       "      <td>Women of Devil's Island (1962)</td>\n",
       "      <td>Action|Adventure|Drama</td>\n",
       "    </tr>\n",
       "  </tbody>\n",
       "</table>\n",
       "</div>"
      ],
      "text/plain": [
       "       movieId                           title                  genres\n",
       "62421   209169             A Girl Thing (2001)      (no genres listed)\n",
       "62422   209171  Women of Devil's Island (1962)  Action|Adventure|Drama"
      ]
     },
     "execution_count": 39,
     "metadata": {},
     "output_type": "execute_result"
    }
   ],
   "source": [
    "movies_df.tail(2)"
   ]
  },
  {
   "cell_type": "code",
   "execution_count": 40,
   "id": "5af4e93e",
   "metadata": {},
   "outputs": [
    {
     "name": "stdout",
     "output_type": "stream",
     "text": [
      "<class 'pandas.core.frame.DataFrame'>\n",
      "RangeIndex: 62423 entries, 0 to 62422\n",
      "Data columns (total 3 columns):\n",
      " #   Column   Non-Null Count  Dtype \n",
      "---  ------   --------------  ----- \n",
      " 0   movieId  62423 non-null  int64 \n",
      " 1   title    62423 non-null  object\n",
      " 2   genres   62423 non-null  object\n",
      "dtypes: int64(1), object(2)\n",
      "memory usage: 1.4+ MB\n"
     ]
    }
   ],
   "source": [
    "movies_df.info()"
   ]
  },
  {
   "cell_type": "code",
   "execution_count": 42,
   "id": "66daa695",
   "metadata": {},
   "outputs": [
    {
     "data": {
      "text/plain": [
       "(62423, 3)"
      ]
     },
     "execution_count": 42,
     "metadata": {},
     "output_type": "execute_result"
    }
   ],
   "source": [
    "movies_df.shape"
   ]
  },
  {
   "cell_type": "code",
   "execution_count": 43,
   "id": "34162287",
   "metadata": {},
   "outputs": [
    {
     "data": {
      "text/html": [
       "<div>\n",
       "<style scoped>\n",
       "    .dataframe tbody tr th:only-of-type {\n",
       "        vertical-align: middle;\n",
       "    }\n",
       "\n",
       "    .dataframe tbody tr th {\n",
       "        vertical-align: top;\n",
       "    }\n",
       "\n",
       "    .dataframe thead th {\n",
       "        text-align: right;\n",
       "    }\n",
       "</style>\n",
       "<table border=\"1\" class=\"dataframe\">\n",
       "  <thead>\n",
       "    <tr style=\"text-align: right;\">\n",
       "      <th></th>\n",
       "      <th>movieId</th>\n",
       "    </tr>\n",
       "  </thead>\n",
       "  <tbody>\n",
       "    <tr>\n",
       "      <th>count</th>\n",
       "      <td>62423.000000</td>\n",
       "    </tr>\n",
       "    <tr>\n",
       "      <th>mean</th>\n",
       "      <td>122220.387646</td>\n",
       "    </tr>\n",
       "    <tr>\n",
       "      <th>std</th>\n",
       "      <td>63264.744844</td>\n",
       "    </tr>\n",
       "    <tr>\n",
       "      <th>min</th>\n",
       "      <td>1.000000</td>\n",
       "    </tr>\n",
       "    <tr>\n",
       "      <th>25%</th>\n",
       "      <td>82146.500000</td>\n",
       "    </tr>\n",
       "    <tr>\n",
       "      <th>50%</th>\n",
       "      <td>138022.000000</td>\n",
       "    </tr>\n",
       "    <tr>\n",
       "      <th>75%</th>\n",
       "      <td>173222.000000</td>\n",
       "    </tr>\n",
       "    <tr>\n",
       "      <th>max</th>\n",
       "      <td>209171.000000</td>\n",
       "    </tr>\n",
       "  </tbody>\n",
       "</table>\n",
       "</div>"
      ],
      "text/plain": [
       "             movieId\n",
       "count   62423.000000\n",
       "mean   122220.387646\n",
       "std     63264.744844\n",
       "min         1.000000\n",
       "25%     82146.500000\n",
       "50%    138022.000000\n",
       "75%    173222.000000\n",
       "max    209171.000000"
      ]
     },
     "execution_count": 43,
     "metadata": {},
     "output_type": "execute_result"
    }
   ],
   "source": [
    "movies_df.describe()"
   ]
  },
  {
   "cell_type": "code",
   "execution_count": 46,
   "id": "3cf45687",
   "metadata": {},
   "outputs": [
    {
     "data": {
      "text/plain": [
       "count     62423\n",
       "unique     1639\n",
       "top       Drama\n",
       "freq       9056\n",
       "Name: genres, dtype: object"
      ]
     },
     "execution_count": 46,
     "metadata": {},
     "output_type": "execute_result"
    }
   ],
   "source": [
    "movies_df['genres'].describe()"
   ]
  },
  {
   "cell_type": "code",
   "execution_count": 52,
   "id": "bf482255",
   "metadata": {},
   "outputs": [
    {
     "name": "stdout",
     "output_type": "stream",
     "text": [
      "   apple  orange\n",
      "0      3       1\n",
      "1      2       4\n",
      "2      0       5\n",
      "3      1       9\n",
      "4      5       6\n",
      "   apple  orange  banana\n",
      "0      3       1       1\n",
      "1      2       4       2\n",
      "2      0       5       3\n",
      "3      1       9       4\n",
      "4      5       6       5\n"
     ]
    }
   ],
   "source": [
    "data={'apple':[3,2,0,1,5],'orange':[1,4,5,9,6]}\n",
    "df=pd.DataFrame(data)\n",
    "print(df)\n",
    "df['banana']=pd.Series([1,2,3,4,5])\n",
    "print(df)"
   ]
  },
  {
   "cell_type": "code",
   "execution_count": 54,
   "id": "08c7861c",
   "metadata": {},
   "outputs": [
    {
     "name": "stdout",
     "output_type": "stream",
     "text": [
      "   apple  orange  banana  mango\n",
      "0      3       1       1      4\n",
      "1      2       4       2      4\n",
      "2      0       5       3      3\n",
      "3      1       9       4      5\n",
      "4      5       6       5     10\n"
     ]
    }
   ],
   "source": [
    "df['mango']=df['apple']+df['banana']\n",
    "print(df)"
   ]
  },
  {
   "cell_type": "code",
   "execution_count": 55,
   "id": "e6a54b0a",
   "metadata": {},
   "outputs": [
    {
     "name": "stdout",
     "output_type": "stream",
     "text": [
      "   apple  orange  mango\n",
      "0      3       1      4\n",
      "1      2       4      4\n",
      "2      0       5      3\n",
      "3      1       9      5\n",
      "4      5       6     10\n"
     ]
    }
   ],
   "source": [
    "del df['banana']\n",
    "print(df)"
   ]
  },
  {
   "cell_type": "code",
   "execution_count": 56,
   "id": "fb7e1e4a",
   "metadata": {},
   "outputs": [
    {
     "name": "stdout",
     "output_type": "stream",
     "text": [
      "   apple  orange  mango\n",
      "2      0       5      3\n",
      "3      1       9      5\n"
     ]
    }
   ],
   "source": [
    "print(df[2:4])"
   ]
  },
  {
   "cell_type": "code",
   "execution_count": 57,
   "id": "613970f6",
   "metadata": {},
   "outputs": [
    {
     "name": "stdout",
     "output_type": "stream",
     "text": [
      "   apple  orange  mango\n",
      "2      0       5      3\n",
      "3      1       9      5\n",
      "4      5       6     10\n"
     ]
    }
   ],
   "source": [
    "print(df[2:5])"
   ]
  },
  {
   "cell_type": "code",
   "execution_count": 58,
   "id": "4bf20c20",
   "metadata": {},
   "outputs": [
    {
     "name": "stdout",
     "output_type": "stream",
     "text": [
      "   apple  orange  mango\n",
      "2      0       5      3\n",
      "3      1       9      5\n",
      "4      5       6     10\n"
     ]
    }
   ],
   "source": [
    "print(df[2:6])"
   ]
  },
  {
   "cell_type": "code",
   "execution_count": 59,
   "id": "cd391723",
   "metadata": {},
   "outputs": [
    {
     "name": "stdout",
     "output_type": "stream",
     "text": [
      "   apple  orange  mango\n",
      "2      0       5      3\n",
      "3      1       9      5\n",
      "4      5       6     10\n"
     ]
    }
   ],
   "source": [
    "print(df[2:7])"
   ]
  },
  {
   "cell_type": "code",
   "execution_count": 60,
   "id": "321288c2",
   "metadata": {},
   "outputs": [
    {
     "name": "stdout",
     "output_type": "stream",
     "text": [
      "   apple  orange  mango\n",
      "0      3       1      4\n",
      "1      2       4      4\n",
      "2      0       5      3\n",
      "3      1       9      5\n",
      "4      5       6     10\n"
     ]
    }
   ],
   "source": [
    "print(df[:])"
   ]
  },
  {
   "cell_type": "code",
   "execution_count": 91,
   "id": "79393e0b",
   "metadata": {},
   "outputs": [
    {
     "name": "stdout",
     "output_type": "stream",
     "text": [
      "   Pineapple\n",
      "0          1\n",
      "1          8\n",
      "2          6\n",
      "3          3\n",
      "4          7\n",
      "   apple  orange  mango  Pineapple\n",
      "0    3.0     1.0    8.0        NaN\n",
      "1    2.0     4.0    9.0        NaN\n",
      "2    0.0     5.0    3.0        NaN\n",
      "3    1.0     9.0    4.0        NaN\n",
      "4    5.0     6.0    2.0        NaN\n",
      "0    NaN     NaN    NaN        1.0\n",
      "1    NaN     NaN    NaN        8.0\n",
      "2    NaN     NaN    NaN        6.0\n",
      "3    NaN     NaN    NaN        3.0\n",
      "4    NaN     NaN    NaN        7.0\n",
      "   apple  orange  mango  Pineapple\n",
      "0    3.0     1.0    8.0        NaN\n",
      "1    2.0     4.0    9.0        NaN\n",
      "2    0.0     5.0    3.0        NaN\n",
      "3    1.0     9.0    4.0        NaN\n",
      "4    5.0     6.0    2.0        NaN\n",
      "0    NaN     NaN    NaN        1.0\n",
      "1    NaN     NaN    NaN        8.0\n",
      "2    NaN     NaN    NaN        6.0\n",
      "3    NaN     NaN    NaN        3.0\n",
      "4    NaN     NaN    NaN        7.0\n"
     ]
    }
   ],
   "source": [
    "data1={'Pineapple':[1,8,6,3,7]}\n",
    "df2=pd.DataFrame(data1)\n",
    "print(df2)\n",
    "df3=pd.concat([df,df2])\n",
    "print(df3)\n",
    "df3.dropna()\n",
    "print(df3)"
   ]
  },
  {
   "cell_type": "code",
   "execution_count": 105,
   "id": "c1b1d852",
   "metadata": {},
   "outputs": [
    {
     "name": "stdout",
     "output_type": "stream",
     "text": [
      "  Name  SSN  marks\n",
      "0    A   10     90\n",
      "1    B   20     95\n",
      "  Name  SSN  marks\n",
      "0    B   25     80\n",
      "1    C   88     97\n"
     ]
    },
    {
     "data": {
      "text/html": [
       "<div>\n",
       "<style scoped>\n",
       "    .dataframe tbody tr th:only-of-type {\n",
       "        vertical-align: middle;\n",
       "    }\n",
       "\n",
       "    .dataframe tbody tr th {\n",
       "        vertical-align: top;\n",
       "    }\n",
       "\n",
       "    .dataframe thead th {\n",
       "        text-align: right;\n",
       "    }\n",
       "</style>\n",
       "<table border=\"1\" class=\"dataframe\">\n",
       "  <thead>\n",
       "    <tr style=\"text-align: right;\">\n",
       "      <th></th>\n",
       "      <th>Name</th>\n",
       "      <th>SSN</th>\n",
       "      <th>marks</th>\n",
       "    </tr>\n",
       "  </thead>\n",
       "  <tbody>\n",
       "    <tr>\n",
       "      <th>0</th>\n",
       "      <td>A</td>\n",
       "      <td>10</td>\n",
       "      <td>90</td>\n",
       "    </tr>\n",
       "    <tr>\n",
       "      <th>1</th>\n",
       "      <td>B</td>\n",
       "      <td>20</td>\n",
       "      <td>95</td>\n",
       "    </tr>\n",
       "    <tr>\n",
       "      <th>0</th>\n",
       "      <td>B</td>\n",
       "      <td>25</td>\n",
       "      <td>80</td>\n",
       "    </tr>\n",
       "    <tr>\n",
       "      <th>1</th>\n",
       "      <td>C</td>\n",
       "      <td>88</td>\n",
       "      <td>97</td>\n",
       "    </tr>\n",
       "  </tbody>\n",
       "</table>\n",
       "</div>"
      ],
      "text/plain": [
       "  Name  SSN  marks\n",
       "0    A   10     90\n",
       "1    B   20     95\n",
       "0    B   25     80\n",
       "1    C   88     97"
      ]
     },
     "execution_count": 105,
     "metadata": {},
     "output_type": "execute_result"
    }
   ],
   "source": [
    "import pandas as pd\n",
    "\n",
    "df1 = pd.DataFrame({'Name':['A','B'], 'SSN':[10,20], 'marks':[90, 95] })\n",
    "print(df1)\n",
    "df2 = pd.DataFrame({'Name':['B','C'], 'SSN':[25,88], 'marks':[80, 97] })\n",
    "print(df2)\n",
    "df3 = pd.concat([df1, df2])\n",
    "df3\n"
   ]
  },
  {
   "cell_type": "code",
   "execution_count": 88,
   "id": "ccd981c6",
   "metadata": {},
   "outputs": [
    {
     "name": "stdout",
     "output_type": "stream",
     "text": [
      "   Pineapple  Jackfruit  papaya\n",
      "0          1          5       5\n",
      "1          8          6       9\n",
      "2          6          9       3\n",
      "3          3          7       4\n",
      "4          7          3       7\n",
      "   apple  orange  mango\n",
      "0      3       1      8\n",
      "1      2       4      9\n",
      "2      0       5      3\n",
      "3      1       9      4\n",
      "4      5       6      2\n",
      "   apple  orange  mango  Pineapple  Jackfruit  papaya\n",
      "0    3.0     1.0    8.0        NaN        NaN     NaN\n",
      "1    2.0     4.0    9.0        NaN        NaN     NaN\n",
      "2    0.0     5.0    3.0        NaN        NaN     NaN\n",
      "3    1.0     9.0    4.0        NaN        NaN     NaN\n",
      "4    5.0     6.0    2.0        NaN        NaN     NaN\n",
      "0    NaN     NaN    NaN        1.0        5.0     5.0\n",
      "1    NaN     NaN    NaN        8.0        6.0     9.0\n",
      "2    NaN     NaN    NaN        6.0        9.0     3.0\n",
      "3    NaN     NaN    NaN        3.0        7.0     4.0\n",
      "4    NaN     NaN    NaN        7.0        3.0     7.0\n",
      "   apple  orange  mango  Pineapple  Jackfruit  papaya\n",
      "0      3       1      8          1          5       5\n",
      "1      2       4      9          8          6       9\n",
      "2      0       5      3          6          9       3\n",
      "3      1       9      4          3          7       4\n",
      "4      5       6      2          7          3       7\n",
      "   apple  orange  mango\n",
      "0      3       1      8\n",
      "1      2       4      9\n",
      "2      0       5      3\n",
      "3      1       9      4\n",
      "4      5       6      2\n",
      "   apple  orange  mango\n",
      "0      3       1      8\n",
      "1      2       4      9\n",
      "2      0       5      3\n",
      "3      1       9      4\n",
      "4      5       6      2\n",
      "0      3       1      8\n",
      "1      2       4      9\n",
      "2      0       5      3\n",
      "3      1       9      4\n",
      "4      5       6      2\n"
     ]
    }
   ],
   "source": [
    "data1={'Pineapple':[1,8,6,3,7],'Jackfruit':[5,6,9,7,3],'papaya':[5,9,3,4,7]}\n",
    "df2=pd.DataFrame(data1)\n",
    "print(df2)\n",
    "\n",
    "data={'apple':[3,2,0,1,5],'orange':[1,4,5,9,6],'mango':[8,9,3,4,2]}\n",
    "df=pd.DataFrame(data)\n",
    "print(df)\n",
    "\n",
    "df3=pd.concat([df,df2],axis=0)\n",
    "print(df3)\n",
    "\n",
    "df3=pd.concat([df,df2],axis=1)\n",
    "print(df3)\n",
    "\n",
    "data2={'apple':[3,2,0,1,5],'orange':[1,4,5,9,6],'mango':[8,9,3,4,2]}\n",
    "df3=pd.DataFrame(data)\n",
    "print(df3)\n",
    "\n",
    "df4=pd.concat([df,df3],axis=0)\n",
    "print(df4)"
   ]
  },
  {
   "cell_type": "code",
   "execution_count": 104,
   "id": "8f05e4a9",
   "metadata": {},
   "outputs": [
    {
     "name": "stdout",
     "output_type": "stream",
     "text": [
      "  Name  SSN  marks\n",
      "0    A   10     90\n",
      "1    B   20     95\n",
      "  Name   SSN  marks\n",
      "0    B  25.0     80\n",
      "1    C   NaN     97\n"
     ]
    },
    {
     "data": {
      "text/html": [
       "<div>\n",
       "<style scoped>\n",
       "    .dataframe tbody tr th:only-of-type {\n",
       "        vertical-align: middle;\n",
       "    }\n",
       "\n",
       "    .dataframe tbody tr th {\n",
       "        vertical-align: top;\n",
       "    }\n",
       "\n",
       "    .dataframe thead th {\n",
       "        text-align: right;\n",
       "    }\n",
       "</style>\n",
       "<table border=\"1\" class=\"dataframe\">\n",
       "  <thead>\n",
       "    <tr style=\"text-align: right;\">\n",
       "      <th></th>\n",
       "      <th>Name</th>\n",
       "      <th>SSN</th>\n",
       "      <th>marks</th>\n",
       "    </tr>\n",
       "  </thead>\n",
       "  <tbody>\n",
       "    <tr>\n",
       "      <th>0</th>\n",
       "      <td>A</td>\n",
       "      <td>10.0</td>\n",
       "      <td>90</td>\n",
       "    </tr>\n",
       "    <tr>\n",
       "      <th>1</th>\n",
       "      <td>B</td>\n",
       "      <td>20.0</td>\n",
       "      <td>95</td>\n",
       "    </tr>\n",
       "    <tr>\n",
       "      <th>0</th>\n",
       "      <td>B</td>\n",
       "      <td>25.0</td>\n",
       "      <td>80</td>\n",
       "    </tr>\n",
       "  </tbody>\n",
       "</table>\n",
       "</div>"
      ],
      "text/plain": [
       "  Name   SSN  marks\n",
       "0    A  10.0     90\n",
       "1    B  20.0     95\n",
       "0    B  25.0     80"
      ]
     },
     "execution_count": 104,
     "metadata": {},
     "output_type": "execute_result"
    }
   ],
   "source": [
    "import pandas as pd\n",
    "import numpy as np\n",
    "df1 = pd.DataFrame({'Name':['A','B'], 'SSN':[10,20], 'marks':[90, 95] })\n",
    "print(df1)\n",
    "df2 = pd.DataFrame({'Name':['B','C'], 'SSN':[25,np.nan], 'marks':[80, 97] })\n",
    "print(df2)\n",
    "df3 = pd.concat([df1, df2])\n",
    "df3\n",
    "df4=df3.dropna(axis=0)\n",
    "df4"
   ]
  },
  {
   "cell_type": "code",
   "execution_count": 106,
   "id": "0dc9918c",
   "metadata": {},
   "outputs": [
    {
     "name": "stdout",
     "output_type": "stream",
     "text": [
      "   Pineapple  Jackfruit  papaya\n",
      "0          1          5       5\n",
      "1          8          6       9\n",
      "2          6          9       3\n",
      "3          3          7       4\n",
      "4          7          3       7\n",
      "   apple  orange  mango\n",
      "0      3       1      8\n",
      "1      2       4      9\n",
      "2      0       5      3\n",
      "3      1       9      4\n",
      "4      5       6      2\n",
      "   apple  orange  mango  Pineapple  Jackfruit  papaya\n",
      "0    3.0     1.0    8.0        NaN        NaN     NaN\n",
      "1    2.0     4.0    9.0        NaN        NaN     NaN\n",
      "2    0.0     5.0    3.0        NaN        NaN     NaN\n",
      "3    1.0     9.0    4.0        NaN        NaN     NaN\n",
      "4    5.0     6.0    2.0        NaN        NaN     NaN\n",
      "0    NaN     NaN    NaN        1.0        5.0     5.0\n",
      "1    NaN     NaN    NaN        8.0        6.0     9.0\n",
      "2    NaN     NaN    NaN        6.0        9.0     3.0\n",
      "3    NaN     NaN    NaN        3.0        7.0     4.0\n",
      "4    NaN     NaN    NaN        7.0        3.0     7.0\n",
      "   apple  orange  mango  Pineapple  Jackfruit  papaya\n",
      "0      3       1      8          1          5       5\n",
      "1      2       4      9          8          6       9\n",
      "2      0       5      3          6          9       3\n",
      "3      1       9      4          3          7       4\n",
      "4      5       6      2          7          3       7\n",
      "   apple  orange  mango\n",
      "0      3       1      8\n",
      "1      2       4      9\n",
      "2      0       5      3\n",
      "3      1       9      4\n",
      "4      5       6      2\n",
      "   apple  orange  mango\n",
      "0      3       1      8\n",
      "1      2       4      9\n",
      "2      0       5      3\n",
      "3      1       9      4\n",
      "4      5       6      2\n",
      "0      3       1      8\n",
      "1      2       4      9\n",
      "2      0       5      3\n",
      "3      1       9      4\n",
      "4      5       6      2\n"
     ]
    }
   ],
   "source": [
    "data1={'Pineapple':[1,8,6,3,7],'Jackfruit':[5,6,9,7,3],'papaya':[5,9,3,4,7]}\n",
    "df2=pd.DataFrame(data1)\n",
    "print(df2)\n",
    "\n",
    "data={'apple':[3,2,0,1,5],'orange':[1,4,5,9,6],'mango':[8,9,3,4,2]}\n",
    "df=pd.DataFrame(data)\n",
    "print(df)\n",
    "\n",
    "df3=pd.concat([df,df2],axis=0)\n",
    "print(df3)\n",
    "\n",
    "df3=pd.concat([df,df2],axis=1)\n",
    "print(df3)\n",
    "\n",
    "data2={'apple':[3,2,0,1,5],'orange':[1,4,5,9,6],'mango':[8,9,3,4,2]}\n",
    "df3=pd.DataFrame(data)\n",
    "print(df3)\n",
    "\n",
    "df4=pd.concat([df,df3],axis=0)\n",
    "print(df4.dropna(axis=0))\n"
   ]
  },
  {
   "cell_type": "code",
   "execution_count": null,
   "id": "4f285b22",
   "metadata": {},
   "outputs": [],
   "source": []
  }
 ],
 "metadata": {
  "kernelspec": {
   "display_name": "Python 3 (ipykernel)",
   "language": "python",
   "name": "python3"
  },
  "language_info": {
   "codemirror_mode": {
    "name": "ipython",
    "version": 3
   },
   "file_extension": ".py",
   "mimetype": "text/x-python",
   "name": "python",
   "nbconvert_exporter": "python",
   "pygments_lexer": "ipython3",
   "version": "3.9.13"
  }
 },
 "nbformat": 4,
 "nbformat_minor": 5
}
